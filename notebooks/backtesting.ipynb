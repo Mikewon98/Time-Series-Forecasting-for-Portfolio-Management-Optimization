{
 "cells": [
  {
   "cell_type": "markdown",
   "id": "5d72029c",
   "metadata": {},
   "source": [
    "# Task 5: Strategy Backtesting"
   ]
  },
  {
   "cell_type": "code",
   "execution_count": null,
   "id": "4eb3e696",
   "metadata": {},
   "outputs": [],
   "source": [
    "import pandas as pd\n",
    "import numpy as np\n",
    "import matplotlib.pyplot as plt\n",
    "from statsmodels.tsa.arima.model import ARIMA\n",
    "from pmdarima import auto_arima\n",
    "\n",
    "# Load the cleaned data\n",
    "tsla_df = pd.read_csv('../data/TSLA_cleaned.csv', index_col='Date', parse_dates=True)\n",
    "bnd_df = pd.read_csv('../data/BND_cleaned.csv', index_col='Date', parse_dates=True)\n",
    "spy_df = pd.read_csv('../data/SPY_cleaned.csv', index_col='Date', parse_dates=True)"
   ]
  },
  {
   "cell_type": "markdown",
   "id": "d235ac2c",
   "metadata": {},
   "source": [
    "## 1. Define Backtesting Period and Benchmark"
   ]
  },
  {
   "cell_type": "code",
   "execution_count": null,
   "id": "69f25a63",
   "metadata": {},
   "outputs": [],
   "source": [
    "backtest_start_date = '2024-08-01'\n",
    "backtest_end_date = '2025-07-31'\n",
    "\n",
    "benchmark_weights = {'SPY': 0.6, 'BND': 0.4}"
   ]
  },
  {
   "cell_type": "markdown",
   "id": "ff9127fd",
   "metadata": {},
   "source": [
    "## 2. Get the Optimal Portfolio Weights from Task 4"
   ]
  },
  {
   "cell_type": "code",
   "execution_count": null,
   "id": "c23c6c65",
   "metadata": {},
   "outputs": [],
   "source": [
    "# We need to re-calculate the optimal weights based on the data available before the backtesting period\n",
    "train_data_tsla = tsla_df[:backtest_start_date]['Close']\n",
    "train_data_bnd = bnd_df[:backtest_start_date]['Close']\n",
    "train_data_spy = spy_df[:backtest_start_date]['Close']\n",
    "\n",
    "# Expected returns\n",
    "stepwise_fit = auto_arima(train_data_tsla, trace=False, suppress_warnings=True)\n",
    "p, d, q = stepwise_fit.order\n",
    "model = ARIMA(train_data_tsla, order=(p, d, q))\n",
    "model_fit = model.fit()\n",
    "forecast = model_fit.forecast(steps=252)\n",
    "expected_return_tsla = (forecast.iloc[-1] - train_data_tsla.iloc[-1]) / train_data_tsla.iloc[-1]\n",
    "expected_return_bnd = train_data_bnd.pct_change().mean() * 252\n",
    "expected_return_spy = train_data_spy.pct_change().mean() * 252\n",
    "expected_returns = np.array([expected_return_tsla, expected_return_bnd, expected_return_spy])\n",
    "\n",
    "# Covariance matrix\n",
    "returns_tsla = train_data_tsla.pct_change().dropna()\n",
    "returns_bnd = train_data_bnd.pct_change().dropna()\n",
    "returns_spy = train_data_spy.pct_change().dropna()\n",
    "returns_df = pd.concat([returns_tsla, returns_bnd, returns_spy], axis=1).dropna()\n",
    "returns_df.columns = ['TSLA', 'BND', 'SPY']\n",
    "cov_matrix = returns_df.cov() * 252\n",
    "\n",
    "# Monte Carlo simulation to find the max Sharpe ratio portfolio\n",
    "num_portfolios = 10000\n",
    "results = np.zeros((3, num_portfolios))\n",
    "weights_record = []\n",
    "for i in range(num_portfolios):\n",
    "    weights = np.random.random(3)\n",
    "    weights /= np.sum(weights)\n",
    "    weights_record.append(weights)\n",
    "    portfolio_return = np.sum(weights * expected_returns)\n",
    "    portfolio_stddev = np.sqrt(np.dot(weights.T, np.dot(cov_matrix, weights)))\n",
    "    results[0,i] = portfolio_return\n",
    "    results[1,i] = portfolio_stddev\n",
    "    results[2,i] = (portfolio_return - 0.02) / portfolio_stddev\n",
    "\n",
    "results_frame = pd.DataFrame(results.T, columns=['ret','stdev','sharpe'])\n",
    "results_frame['weights'] = weights_record\n",
    "max_sharpe_port = results_frame.iloc[results_frame['sharpe'].idxmax()]\n",
    "optimal_weights = max_sharpe_port['weights']"
   ]
  },
  {
   "cell_type": "markdown",
   "id": "326e0c99",
   "metadata": {},
   "source": [
    "## 3. Simulate the Strategy and Benchmark"
   ]
  },
  {
   "cell_type": "code",
   "execution_count": null,
   "id": "93c7a5ec",
   "metadata": {},
   "outputs": [],
   "source": [
    "# Get the returns for the backtesting period\n",
    "backtest_returns_tsla = tsla_df[backtest_start_date:backtest_end_date]['Close'].pct_change().dropna()\n",
    "backtest_returns_bnd = bnd_df[backtest_start_date:backtest_end_date]['Close'].pct_change().dropna()\n",
    "backtest_returns_spy = spy_df[backtest_start_date:backtest_end_date]['Close'].pct_change().dropna()\n",
    "backtest_returns = pd.concat([backtest_returns_tsla, backtest_returns_bnd, backtest_returns_spy], axis=1).dropna()\n",
    "backtest_returns.columns = ['TSLA', 'BND', 'SPY']\n",
    "\n",
    "# Strategy portfolio returns\n",
    "strategy_returns = (backtest_returns * optimal_weights).sum(axis=1)\n",
    "\n",
    "# Benchmark portfolio returns\n",
    "benchmark_returns = (backtest_returns[['SPY', 'BND']] * pd.Series(benchmark_weights)).sum(axis=1)"
   ]
  },
  {
   "cell_type": "markdown",
   "id": "65fbb39e",
   "metadata": {},
   "source": [
    "## 4. Analyze Performance"
   ]
  },
  {
   "cell_type": "code",
   "execution_count": null,
   "id": "8141dc8d",
   "metadata": {},
   "outputs": [],
   "source": [
    "# Calculate cumulative returns\n",
    "strategy_cumulative_returns = (1 + strategy_returns).cumprod() - 1\n",
    "benchmark_cumulative_returns = (1 + benchmark_returns).cumprod() - 1"
   ]
  },
  {
   "cell_type": "code",
   "execution_count": null,
   "id": "807e7db5",
   "metadata": {},
   "outputs": [],
   "source": [
    "# Plot the cumulative returns\n",
    "plt.figure(figsize=(14, 7))\n",
    "plt.plot(strategy_cumulative_returns, label='Optimized Strategy')\n",
    "plt.plot(benchmark_cumulative_returns, label='60/40 Benchmark')\n",
    "plt.title('Strategy Backtest vs. Benchmark')\n",
    "plt.xlabel('Date')\n",
    "plt.ylabel('Cumulative Returns')\n",
    "plt.legend()\n",
    "plt.show()"
   ]
  },
  {
   "cell_type": "code",
   "execution_count": null,
   "id": "1821de37",
   "metadata": {},
   "outputs": [],
   "source": [
    "# Calculate performance metrics\n",
    "total_return_strategy = strategy_cumulative_returns.iloc[-1]\n",
    "total_return_benchmark = benchmark_cumulative_returns.iloc[-1]\n",
    "sharpe_ratio_strategy = (strategy_returns.mean() * 252 - 0.02) / (strategy_returns.std() * np.sqrt(252))\n",
    "sharpe_ratio_benchmark = (benchmark_returns.mean() * 252 - 0.02) / (benchmark_returns.std() * np.sqrt(252))\n",
    "\n",
    "print(\"Optimized Strategy Performance:\")\n",
    "print(f'Total Return: {total_return_strategy:.2%}')\n",
    "print(f'Sharpe Ratio: {sharpe_ratio_strategy:.2f}')\n",
    "\n",
    "print(\"Benchmark Performance:\")\n",
    "print(f'Total Return: {total_return_benchmark:.2%}')\n",
    "print(f'Sharpe Ratio: {sharpe_ratio_benchmark:.2f}')"
   ]
  },
  {
   "cell_type": "markdown",
   "id": "7ccf04c0",
   "metadata": {},
   "source": [
    "## 5. Conclusion"
   ]
  },
  {
   "cell_type": "markdown",
   "id": "7ed8ef9e",
   "metadata": {},
   "source": [
    "The backtest results show that the optimized strategy [outperformed/underperformed] the 60/40 benchmark portfolio during the backtesting period. The strategy yielded a total return of [X]% and a Sharpe ratio of [Y], compared to the benchmark's total return of [A]% and Sharpe ratio of [B].\n",
    "\n",
    "This initial backtest suggests that the model-driven approach [is/is not] a viable strategy for enhancing portfolio returns. However, it is important to note that this is a simplified backtest, and further analysis with more sophisticated techniques, such as rebalancing and transaction costs, would be necessary to validate these findings."
   ]
  }
 ],
 "metadata": {
  "language_info": {
   "name": "python"
  }
 },
 "nbformat": 4,
 "nbformat_minor": 5
}
