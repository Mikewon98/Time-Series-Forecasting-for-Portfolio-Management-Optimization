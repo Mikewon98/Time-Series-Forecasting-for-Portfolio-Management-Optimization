{
 "cells": [
  {
   "cell_type": "markdown",
   "id": "669c157c",
   "metadata": {},
   "source": [
    "# Task 3: Forecast Future Market Trends"
   ]
  },
  {
   "cell_type": "code",
   "execution_count": null,
   "id": "95ff6d33",
   "metadata": {},
   "outputs": [],
   "source": [
    "import pandas as pd\n",
    "import numpy as np\n",
    "import matplotlib.pyplot as plt\n",
    "from statsmodels.tsa.arima.model import ARIMA\n",
    "from pmdarima import auto_arima\n",
    "\n",
    "# Load the data\n",
    "tsla_df = pd.read_csv('../data/TSLA_cleaned.csv', index_col='Date', parse_dates=True)"
   ]
  },
  {
   "cell_type": "markdown",
   "id": "14a8193a",
   "metadata": {},
   "source": [
    "## 1. Train the ARIMA Model on the Full Dataset"
   ]
  },
  {
   "cell_type": "code",
   "execution_count": null,
   "id": "0f9b020c",
   "metadata": {},
   "outputs": [],
   "source": [
    "# Find the best ARIMA parameters using auto_arima on the full dataset\n",
    "stepwise_fit = auto_arima(tsla_df['Close'], trace=True, suppress_warnings=True)\n",
    "print(stepwise_fit.summary())"
   ]
  },
  {
   "cell_type": "code",
   "execution_count": null,
   "id": "b0997aad",
   "metadata": {},
   "outputs": [],
   "source": [
    "# Fit the ARIMA model on the full dataset\n",
    "p, d, q = stepwise_fit.order\n",
    "model = ARIMA(tsla_df['Close'], order=(p, d, q))\n",
    "model_fit = model.fit()\n",
    "print(model_fit.summary())"
   ]
  },
  {
   "cell_type": "markdown",
   "id": "5b991d05",
   "metadata": {},
   "source": [
    "## 2. Generate and Visualize the Forecast"
   ]
  },
  {
   "cell_type": "code",
   "execution_count": null,
   "id": "001ca676",
   "metadata": {},
   "outputs": [],
   "source": [
    "# Forecast the next 12 months (252 trading days)\n",
    "forecast_result = model_fit.get_forecast(steps=252)\n",
    "forecast = forecast_result.predicted_mean\n",
    "confidence_intervals = forecast_result.conf_int()"
   ]
  },
  {
   "cell_type": "code",
   "execution_count": null,
   "id": "cfe90de0",
   "metadata": {},
   "outputs": [],
   "source": [
    "# Create a date range for the forecast\n",
    "last_date = tsla_df.index[-1]\n",
    "forecast_index = pd.date_range(start=last_date, periods=252 + 1, freq='B')[1:]"
   ]
  },
  {
   "cell_type": "code",
   "execution_count": null,
   "id": "9fb4458a",
   "metadata": {},
   "outputs": [],
   "source": [
    "# Plot the forecast\n",
    "plt.figure(figsize=(14, 7))\n",
    "plt.plot(tsla_df['Close'], label='Historical Data')\n",
    "plt.plot(forecast_index, forecast, label='Forecast')\n",
    "plt.fill_between(forecast_index, \n",
    "                 confidence_intervals.iloc[:, 0], \n",
    "                 confidence_intervals.iloc[:, 1], \n",
    "                 color='k', alpha=.15, label='Confidence Intervals')\n",
    "plt.title('Tesla Stock Price Forecast (ARIMA)')\n",
    "plt.xlabel('Date')\n",
    "plt.ylabel('Price')\n",
    "plt.legend()\n",
    "plt.show()"
   ]
  },
  {
   "cell_type": "markdown",
   "id": "6433ef82",
   "metadata": {},
   "source": [
    "## 3. Interpret the Results"
   ]
  },
  {
   "cell_type": "markdown",
   "id": "b0dbda49",
   "metadata": {},
   "source": [
    "### Trend Analysis\n",
    "The forecast shows a [upward/downward/stable] trend for Tesla's stock price over the next 12 months. The model projects that the price will [increase/decrease/remain stable], following the general trend observed in the historical data.\n",
    "\n",
    "### Volatility and Risk\n",
    "The confidence intervals, represented by the shaded area, show the range of uncertainty in the forecast. The intervals widen over time, which indicates that the forecast becomes less certain further into the future. This is a typical characteristic of time series forecasts and highlights the inherent risk and uncertainty in long-term stock price prediction.\n",
    "\n",
    "The width of the confidence intervals suggests that while the model provides a potential direction for the stock price, there is a significant range of possible outcomes. This reflects the volatility of Tesla's stock and the challenges in predicting its price with high accuracy.\n",
    "\n",
    "### Market Opportunities and Risks\n",
    "**Opportunities:** If the upward trend materializes as forecasted, it could present a buying opportunity for investors. The forecast suggests potential for capital appreciation.\n",
    "\n",
    "**Risks:** The widening confidence intervals highlight the significant risk associated with this forecast. The actual price could deviate substantially from the forecasted line. The high volatility of the stock, as seen in the historical data and reflected in the confidence intervals, means that there is a risk of significant losses if the price moves downwards."
   ]
  }
 ],
 "metadata": {
  "language_info": {
   "name": "python"
  }
 },
 "nbformat": 4,
 "nbformat_minor": 5
}
