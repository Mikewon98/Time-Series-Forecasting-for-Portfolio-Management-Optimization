{
 "cells": [
  {
   "cell_type": "markdown",
   "id": "cdaea5f8",
   "metadata": {},
   "source": [
    "# Task 2: Develop Time Series Forecasting Models"
   ]
  },
  {
   "cell_type": "code",
   "execution_count": null,
   "id": "43809daf",
   "metadata": {},
   "outputs": [],
   "source": [
    "import pandas as pd\n",
    "import numpy as np\n",
    "import matplotlib.pyplot as plt\n",
    "from statsmodels.tsa.arima.model import ARIMA\n",
    "from pmdarima import auto_arima\n",
    "from sklearn.preprocessing import MinMaxScaler\n",
    "from sklearn.metrics import mean_absolute_error, mean_squared_error\n",
    "from tensorflow.keras.models import Sequential\n",
    "from tensorflow.keras.layers import LSTM, Dense, Dropout\n",
    "\n",
    "# Load the data\n",
    "tsla_df = pd.read_csv('../data/TSLA_cleaned.csv', index_col='Date', parse_dates=True)"
   ]
  },
  {
   "cell_type": "markdown",
   "id": "44efd4c9",
   "metadata": {},
   "source": [
    "## 1. Data Preparation"
   ]
  },
  {
   "cell_type": "code",
   "execution_count": null,
   "id": "d04afb59",
   "metadata": {},
   "outputs": [],
   "source": [
    "# Use the 'Close' price for forecasting\n",
    "data = tsla_df[['Close']]\n",
    "\n",
    "# Split the data into training and testing sets\n",
    "train_data = data[:'2023']\n",
    "test_data = data['2024':]"
   ]
  },
  {
   "cell_type": "markdown",
   "id": "6a5d7614",
   "metadata": {},
   "source": [
    "## 2. ARIMA Model"
   ]
  },
  {
   "cell_type": "code",
   "execution_count": null,
   "id": "8c0166da",
   "metadata": {},
   "outputs": [],
   "source": [
    "# Find the best ARIMA parameters using auto_arima\n",
    "stepwise_fit = auto_arima(train_data['Close'], trace=True, suppress_warnings=True)\n",
    "print(stepwise_fit.summary())"
   ]
  },
  {
   "cell_type": "code",
   "execution_count": null,
   "id": "21937ea1",
   "metadata": {},
   "outputs": [],
   "source": [
    "# Fit the ARIMA model\n",
    "p, d, q = stepwise_fit.order\n",
    "model = ARIMA(train_data['Close'], order=(p, d, q))\n",
    "model_fit = model.fit()\n",
    "print(model_fit.summary())"
   ]
  },
  {
   "cell_type": "code",
   "execution_count": null,
   "id": "ba911732",
   "metadata": {},
   "outputs": [],
   "source": [
    "# Make predictions\n",
    "start = len(train_data)\n",
    "end = len(train_data) + len(test_data) - 1\n",
    "predictions_arima = model_fit.predict(start=start, end=end, typ='levels')\n",
    "predictions_arima.index = test_data.index"
   ]
  },
  {
   "cell_type": "code",
   "execution_count": null,
   "id": "ec715b4a",
   "metadata": {},
   "outputs": [],
   "source": [
    "# Plot the results\n",
    "plt.figure(figsize=(14, 7))\n",
    "plt.plot(train_data['Close'], label='Training Data')\n",
    "plt.plot(test_data['Close'], label='Test Data')\n",
    "plt.plot(predictions_arima, label='ARIMA Predictions')\n",
    "plt.title('ARIMA Model - Stock Price Prediction')\n",
    "plt.xlabel('Date')\n",
    "plt.ylabel('Price')\n",
    "plt.legend()\n",
    "plt.show()"
   ]
  },
  {
   "cell_type": "code",
   "execution_count": null,
   "id": "b147aa84",
   "metadata": {},
   "outputs": [],
   "source": [
    "# Evaluate the model\n",
    "mae_arima = mean_absolute_error(test_data['Close'], predictions_arima)\n",
    "rmse_arima = np.sqrt(mean_squared_error(test_data['Close'], predictions_arima))\n",
    "mape_arima = np.mean(np.abs(predictions_arima - test_data['Close']) / np.abs(test_data['Close']))\n",
    "\n",
    "print(f'ARIMA MAE: {mae_arima:.2f}')\n",
    "print(f'ARIMA RMSE: {rmse_arima:.2f}')\n",
    "print(f'ARIMA MAPE: {mape_arima:.2f}')"
   ]
  },
  {
   "cell_type": "markdown",
   "id": "3be29772",
   "metadata": {},
   "source": [
    "## 3. LSTM Model"
   ]
  },
  {
   "cell_type": "markdown",
   "id": "b3605c36",
   "metadata": {},
   "source": [
    "### Data Preprocessing for LSTM"
   ]
  },
  {
   "cell_type": "code",
   "execution_count": null,
   "id": "8fc88eb2",
   "metadata": {},
   "outputs": [],
   "source": [
    "scaler = MinMaxScaler(feature_range=(0, 1))\n",
    "scaled_data = scaler.fit_transform(data)"
   ]
  },
  {
   "cell_type": "markdown",
   "id": "7cbdd732",
   "metadata": {},
   "source": [
    "# Create sequences\n",
    "def create_dataset(dataset, time_step=1):\n",
    "    dataX, dataY = [], []\n",
    "    for i in range(len(dataset) - time_step - 1):\n",
    "        a = dataset[i:(i + time_step), 0]\n",
    "        dataX.append(a)\n",
    "        dataY.append(dataset[i + time_step, 0])\n",
    "    return np.array(dataX), np.array(dataY)\n",
    "\n",
    "time_step = 60\n",
    "X_train, y_train = create_dataset(scaled_data[:len(train_data)], time_step)\n",
    "X_test, y_test = create_dataset(scaled_data[len(train_data)-time_step:], time_step)"
   ]
  },
  {
   "cell_type": "code",
   "execution_count": null,
   "id": "93c866fa",
   "metadata": {},
   "outputs": [],
   "source": [
    "# Reshape input to be [samples, time steps, features] which is required for LSTM\n",
    "X_train = X_train.reshape(X_train.shape[0], X_train.shape[1], 1)\n",
    "X_test = X_test.reshape(X_test.shape[0], X_test.shape[1], 1)"
   ]
  },
  {
   "cell_type": "markdown",
   "id": "fe63be59",
   "metadata": {},
   "source": [
    "### Build and Train the LSTM Model"
   ]
  },
  {
   "cell_type": "code",
   "execution_count": null,
   "id": "77a84542",
   "metadata": {},
   "outputs": [],
   "source": [
    "model_lstm = Sequential()\n",
    "model_lstm.add(LSTM(50, return_sequences=True, input_shape=(time_step, 1)))\n",
    "model_lstm.add(LSTM(50, return_sequences=False))\n",
    "model_lstm.add(Dense(25))\n",
    "model_lstm.add(Dense(1))\n",
    "\n",
    "model_lstm.compile(optimizer='adam', loss='mean_squared_error')\n",
    "\n",
    "model_lstm.fit(X_train, y_train, batch_size=1, epochs=1)"
   ]
  },
  {
   "cell_type": "markdown",
   "id": "3cad0877",
   "metadata": {},
   "source": [
    "### Make Predictions with LSTM"
   ]
  },
  {
   "cell_type": "markdown",
   "id": "a4b9b70a",
   "metadata": {},
   "source": [
    "predictions_lstm_scaled = model_lstm.predict(X_test)\n",
    "predictions_lstm = scaler.inverse_transform(predictions_lstm_scaled)"
   ]
  },
  {
   "cell_type": "code",
   "execution_count": null,
   "id": "84c8c71f",
   "metadata": {},
   "outputs": [],
   "source": [
    "# Create a dataframe with the predictions\n",
    "predictions_lstm_df = pd.DataFrame(predictions_lstm, index=test_data.index[:len(predictions_lstm)], columns=['Predictions'])"
   ]
  },
  {
   "cell_type": "code",
   "execution_count": null,
   "id": "20c6922e",
   "metadata": {},
   "outputs": [],
   "source": [
    "# Plot the results\n",
    "plt.figure(figsize=(14, 7))\n",
    "plt.plot(train_data['Close'], label='Training Data')\n",
    "plt.plot(test_data['Close'], label='Test Data')\n",
    "plt.plot(predictions_lstm_df['Predictions'], label='LSTM Predictions')\n",
    "plt.title('LSTM Model - Stock Price Prediction')\n",
    "plt.xlabel('Date')\n",
    "plt.ylabel('Price')\n",
    "plt.legend()\n",
    "plt.show()"
   ]
  },
  {
   "cell_type": "code",
   "execution_count": null,
   "id": "dc3fcfc3",
   "metadata": {},
   "outputs": [],
   "source": [
    "# Evaluate the model\n",
    "mae_lstm = mean_absolute_error(test_data['Close'][:len(predictions_lstm)], predictions_lstm)\n",
    "rmse_lstm = np.sqrt(mean_squared_error(test_data['Close'][:len(predictions_lstm)], predictions_lstm))\n",
    "mape_lstm = np.mean(np.abs(predictions_lstm - test_data['Close'][:len(predictions_lstm)].values) / np.abs(test_data['Close'][:len(predictions_lstm)].values))\n",
    "\n",
    "print(f'LSTM MAE: {mae_lstm:.2f}')\n",
    "print(f'LSTM RMSE: {rmse_lstm:.2f}')\n",
    "print(f'LSTM MAPE: {mape_lstm:.2f}')"
   ]
  },
  {
   "cell_type": "markdown",
   "id": "4f2302e2",
   "metadata": {},
   "source": [
    "## 4. Model Comparison"
   ]
  },
  {
   "cell_type": "code",
   "execution_count": null,
   "id": "e959576c",
   "metadata": {},
   "outputs": [],
   "source": [
    "print(\"ARIMA Model Metrics:\")\n",
    "print(f'MAE: {mae_arima:.2f}')\n",
    "print(f'RMSE: {rmse_arima:.2f}')\n",
    "print(f'MAPE: {mape_arima:.2f}')\n",
    "\n",
    "print(\"LSTM Model Metrics:\")\n",
    "print(f'MAE: {mae_lstm:.2f}')\n",
    "print(f'RMSE: {rmse_lstm:.2f}')\n",
    "print(f'MAPE: {mape_lstm:.2f}')"
   ]
  }
 ],
 "metadata": {
  "kernelspec": {
   "display_name": ".venv",
   "language": "python",
   "name": "python3"
  },
  "language_info": {
   "codemirror_mode": {
    "name": "ipython",
    "version": 3
   },
   "file_extension": ".py",
   "mimetype": "text/x-python",
   "name": "python",
   "nbconvert_exporter": "python",
   "pygments_lexer": "ipython3",
   "version": "3.12.3"
  }
 },
 "nbformat": 4,
 "nbformat_minor": 5
}
